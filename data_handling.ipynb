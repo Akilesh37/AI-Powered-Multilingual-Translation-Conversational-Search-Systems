{
 "cells": [
  {
   "cell_type": "code",
   "execution_count": 2,
   "id": "e88f807f",
   "metadata": {},
   "outputs": [],
   "source": [
    "import mysql.connector"
   ]
  },
  {
   "cell_type": "code",
   "execution_count": 3,
   "id": "4add289c",
   "metadata": {},
   "outputs": [],
   "source": [
    "db = mysql.connector.connect(\n",
    "            host = \"localhost\",\n",
    "            user = \"root\",\n",
    "            password = \"\",\n",
    "            database = \"transalator_ai\"\n",
    ")\n",
    "cursor = db.cursor()"
   ]
  },
  {
   "cell_type": "code",
   "execution_count": 4,
   "id": "000216a4",
   "metadata": {},
   "outputs": [
    {
     "data": {
      "text/plain": [
       "[(2025001,\n",
       "  'vignesh',\n",
       "  'vignesh15502@gmail.com',\n",
       "  'Vignesh@1',\n",
       "  '8124046696',\n",
       "  datetime.datetime(2025, 5, 29, 15, 10, 14))]"
      ]
     },
     "execution_count": 4,
     "metadata": {},
     "output_type": "execute_result"
    }
   ],
   "source": [
    "select_query = \"SELECT * FROM users;\"\n",
    "cursor.execute(select_query)\n",
    "table = cursor.fetchall()\n",
    "table"
   ]
  },
  {
   "cell_type": "code",
   "execution_count": 9,
   "id": "4f37252d",
   "metadata": {},
   "outputs": [
    {
     "data": {
      "text/plain": [
       "[{'user_id': 2025001,\n",
       "  'user_name': 'vignesh',\n",
       "  'user_email': 'vignesh15502@gmail.com',\n",
       "  'user_password': 'Vignesh@1',\n",
       "  'user_mobile': '8124046696',\n",
       "  'user_created_at': datetime.datetime(2025, 5, 29, 15, 10, 14)}]"
      ]
     },
     "execution_count": 9,
     "metadata": {},
     "output_type": "execute_result"
    }
   ],
   "source": [
    "select_query = \"SELECT * FROM users;\"\n",
    "cursor.execute(select_query)\n",
    "rows = cursor.fetchall()\n",
    "\n",
    "# Get column names from cursor.description\n",
    "columns = [col[0] for col in cursor.description]\n",
    "\n",
    "# Convert to list of dictionaries\n",
    "result = [dict(zip(columns, row)) for row in rows]\n",
    "\n",
    "result"
   ]
  },
  {
   "cell_type": "code",
   "execution_count": 17,
   "id": "5e21ff23",
   "metadata": {},
   "outputs": [],
   "source": [
    "datas = list(user_datas_sst_tts.values())"
   ]
  },
  {
   "cell_type": "code",
   "execution_count": 18,
   "id": "8c4b2d13",
   "metadata": {},
   "outputs": [
    {
     "data": {
      "text/plain": [
       "[2025001, 'user_audio_url', 'text_datas', 'response', 'ai_audio_url']"
      ]
     },
     "execution_count": 18,
     "metadata": {},
     "output_type": "execute_result"
    }
   ],
   "source": [
    "datas"
   ]
  },
  {
   "cell_type": "code",
   "execution_count": null,
   "id": "772ff89f",
   "metadata": {},
   "outputs": [],
   "source": [
    "insert_query = '''INSERT INTO sst_tts(user_id, sst_url, text_data_user, text_data_bot, tts_url)\n",
    "                                      values(%s, %s, %s, %s, %s)'''\n",
    "\n",
    "cursor.execute(insert_query, datas)\n",
    "db.commit()\n",
    "rows = cursor.fetchall()"
   ]
  }
 ],
 "metadata": {
  "kernelspec": {
   "display_name": ".venv",
   "language": "python",
   "name": "python3"
  },
  "language_info": {
   "codemirror_mode": {
    "name": "ipython",
    "version": 3
   },
   "file_extension": ".py",
   "mimetype": "text/x-python",
   "name": "python",
   "nbconvert_exporter": "python",
   "pygments_lexer": "ipython3",
   "version": "3.13.2"
  }
 },
 "nbformat": 4,
 "nbformat_minor": 5
}
